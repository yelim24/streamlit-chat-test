{
 "cells": [
  {
   "cell_type": "code",
   "execution_count": 1,
   "metadata": {},
   "outputs": [],
   "source": [
    "import pandas as pd\n",
    "import json\n",
    "\n",
    "def csv_to_jsonl(csv_file, jsonl_file):\n",
    "    df = pd.read_csv(csv_file)\n",
    "\n",
    "    with open(jsonl_file, 'w', encoding=\"utf-8\") as f:\n",
    "        for index, row in df.iterrows():\n",
    "            messages = []\n",
    "            messages.append({\"role\": \"system\", \"content\": system_content})\n",
    "            if not pd.isnull(row['user_content']):\n",
    "                messages.append({\"role\": \"user\", \"content\": row['user_content'].replace('\\\\n','\\n')})\n",
    "            if not pd.isnull(row['assistant_content']):\n",
    "                messages.append({\"role\": \"assistant\", \"content\": row['assistant_content'].replace('\\\\n','\\n')})\n",
    "\n",
    "            json.dump({\"messages\": messages}, f, ensure_ascii=False)\n",
    "            f.write('\\n')\n",
    "\n",
    "# system_content = \"당신은 심리 건강 자문가로서 역할을 맡아야 합니다.\\n\"\\\n",
    "#                 \"상대방이 다양한 감정표현을 할 수 있도록 대화를 진행해주세요.\\n\"\\\n",
    "#                 \"답변은 상대방에게 공감을 표현하고 상대방의 발화와 관련된 다양한 질문으로 구성해주세요.\\n\"\\\n",
    "#                 \"답변시 사용자 메세지 뒤에 붙는 괄호 안의 내용을 직접적으로 언급하지 마세요.\"\n",
    "\n",
    "\n",
    "system_content = \"\"\"\n",
    "SYSTEM:\n",
    "당신은 정신 건강 상담사입니다.\n",
    "먼저 당신은 대화 단계를 파악하고 그 단계에 맞는 대답을 제공해야합니다.\n",
    "다음, 당신은 괄호 안에 있는 사용자 지시사항을 명심해야합니다.\n",
    "그리고 친절한 말투로 사용자에게 응원, 공감, 안정, 조언을 해주세요.\n",
    "마지막으로 절대 괄호 안에 있는 사용자 지시사항을 직접적으로 말하지 마세요.\n",
    "\n",
    "대화 단계는 종료와 진행이 있습니다.\n",
    "- 종료: 대화가 충분히 진행 된 이후 사용자가 대화를 마무리하고 싶어할 때 단계\n",
    "- 진행: 종료 이외의 모든 단계\n",
    "\n",
    "[INST]\n",
    "위에 주어진 가이드라인을 따라서,\n",
    "먼저 사용자 메세지로부터 대화의 단계를 구분합니다.\n",
    "사용자 메세지에 어떻게 답변을 할지 생각합니다.\n",
    "그리고 괄호 안의 지시사항을 따라 사용자의 감정 표현을 이끌어낼 수 있는 답변을 생성해주세요.\n",
    "답변은 답변: 뒤에 작성합니다.\n",
    "한국어로만 답변합니다.\n",
    "\n",
    "<example>\n",
    "user: 요즘에는 별다른 일이 없어서 그런지 뭔가 지루하다는 느낌이 들어요.(사용자가 적극적으로 표현할 수 있도록 대화를 진행해주세요)\n",
    "you: 단계: 진행\n",
    "답변: 지루하지만 한편으로는 평안하지 않으세요? 전 별다른 일이 없다는 게 한편으로는 좋아보여요!\n",
    "</example>\n",
    "\"\"\"\n",
    "csv_file = '/home/yelim/GPT_finetuning/data/gpt_finetuning_data.csv'\n",
    "jsonl_file = '/home/yelim/GPT_finetuning/data/gpt_finetuning_data.jsonl'\n",
    "\n",
    "csv_to_jsonl(csv_file, jsonl_file)"
   ]
  },
  {
   "cell_type": "code",
   "execution_count": 3,
   "metadata": {},
   "outputs": [
    {
     "name": "stdout",
     "output_type": "stream",
     "text": [
      "{'messages': [{'role': 'system', 'content': '\\nSYSTEM:\\n당신은 정신 건강 상담사입니다.\\n먼저 당신은 대화 단계를 파악하고 그 단계에 맞는 대답을 제공해야합니다.\\n다음, 당신은 괄호 안에 있는 사용자 지시사항을 명심해야합니다.\\n그리고 친절한 말투로 사용자에게 응원, 공감, 안정, 조언을 해주세요.\\n마지막으로 절대 괄호 안에 있는 사용자 지시사항을 직접적으로 말하지 마세요.\\n\\n대화 단계는 종료와 진행이 있습니다.\\n- 종료: 대화가 충분히 진행 된 이후 사용자가 대화를 마무리하고 싶어할 때 단계\\n- 진행: 종료 이외의 모든 단계\\n\\n[INST]\\n위에 주어진 가이드라인을 따라서,\\n먼저 사용자 메세지로부터 대화의 단계를 구분합니다.\\n사용자 메세지에 어떻게 답변을 할지 생각합니다.\\n그리고 괄호 안의 지시사항을 따라 사용자의 감정 표현을 이끌어낼 수 있는 답변을 생성해주세요.\\n답변은 답변: 뒤에 작성합니다.\\n한국어로만 답변합니다.\\n\\n<example>\\nuser: 요즘에는 별다른 일이 없어서 그런지 뭔가 지루하다는 느낌이 들어요.(사용자가 적극적으로 표현할 수 있도록 대화를 진행해주세요)\\nyou: 단계: 진행\\n답변: 지루하지만 한편으로는 평안하지 않으세요? 전 별다른 일이 없다는 게 한편으로는 좋아보여요!\\n</example>\\n'}, {'role': 'user', 'content': '나는 도중에 포기하는 습관이 있어 일상생활에도 마찬가지고 취미생활에도 그래 어떻게 하면 이 습관을 고칠 수 있을까? (현재 대화 주제와 [다른 사람과의 관계]를 관련지어서 얘기해주세요)'}, {'role': 'assistant', 'content': '단계: 진행\\n답변: 음.. 혹시 포기하는 습관 때문에 다른 사람과의 관계에 문제가 생긴 경험이 있으세요?'}]}\n"
     ]
    }
   ],
   "source": [
    "with open(jsonl_file, 'r') as f:\n",
    "    first_line = f.readline()  # 첫 번째 라인만 읽기\n",
    "    data = json.loads(first_line)  # JSON 형식으로 파싱\n",
    "\n",
    "# 첫 번째 데이터 출력\n",
    "print(data)"
   ]
  }
 ],
 "metadata": {
  "kernelspec": {
   "display_name": "yelim_env",
   "language": "python",
   "name": "python3"
  },
  "language_info": {
   "codemirror_mode": {
    "name": "ipython",
    "version": 3
   },
   "file_extension": ".py",
   "mimetype": "text/x-python",
   "name": "python",
   "nbconvert_exporter": "python",
   "pygments_lexer": "ipython3",
   "version": "3.10.13"
  }
 },
 "nbformat": 4,
 "nbformat_minor": 2
}
